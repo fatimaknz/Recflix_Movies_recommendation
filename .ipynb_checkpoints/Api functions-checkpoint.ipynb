{
 "cells": [
  {
   "cell_type": "code",
   "execution_count": 2,
   "metadata": {},
   "outputs": [],
   "source": [
    "import requests\n",
    "def slider(text):\n",
    "#     text = input('Enter')\n",
    "    s_url = \"https://imdb-api.com/en/API/SearchTitle/k_5wie7okz/{}\".format(text)\n",
    "    s_data = requests.get(s_url)\n",
    "    s_data = s_data.json()\n",
    "    img = s_data['results']\n",
    "    dimp = img[0]\n",
    "    lim = dimp['image']\n",
    "    return lim"
   ]
  },
  {
   "cell_type": "code",
   "execution_count": 3,
   "metadata": {},
   "outputs": [
    {
     "data": {
      "text/plain": [
       "'https://imdb-api.com/images/original/MV5BNjE5NzA4ZDctOTJkZi00NzM0LTkwOTYtMDI4MmNkMzIxODhkXkEyXkFqcGdeQXVyNjY1MTg4Mzc@._V1_Ratio0.7273_AL_.jpg'"
      ]
     },
     "execution_count": 3,
     "metadata": {},
     "output_type": "execute_result"
    }
   ],
   "source": [
    "slider('encanto')"
   ]
  },
  {
   "cell_type": "code",
   "execution_count": 4,
   "metadata": {},
   "outputs": [],
   "source": [
    "def recommend(movie):\n",
    "    index = movies[movies['title'] == movie].index[0]\n",
    "    distances = sorted(list(enumerate(similarity[index])), reverse=True, key=lambda x: x[1])\n",
    "    recommended_movie_names = []\n",
    "    recommended_movie_posters = []\n",
    "    for i in distances[1:6]:\n",
    "        # fetch the movie poster\n",
    "        movie_id = movies.iloc[i[0]].movie_id\n",
    "        recommended_movie_posters.append(fetch_poster(movie_id))\n",
    "        recommended_movie_names.append(movies.iloc[i[0]].title)\n",
    "\n",
    "    return recommended_movie_names,recommended_movie_posters"
   ]
  },
  {
   "cell_type": "code",
   "execution_count": 5,
   "metadata": {},
   "outputs": [
    {
     "ename": "SyntaxError",
     "evalue": "invalid syntax (<ipython-input-5-7a4e8ad35f02>, line 8)",
     "output_type": "error",
     "traceback": [
      "\u001b[1;36m  File \u001b[1;32m\"<ipython-input-5-7a4e8ad35f02>\"\u001b[1;36m, line \u001b[1;32m8\u001b[0m\n\u001b[1;33m    print(nb)\u001b[0m\n\u001b[1;37m    ^\u001b[0m\n\u001b[1;31mSyntaxError\u001b[0m\u001b[1;31m:\u001b[0m invalid syntax\n"
     ]
    }
   ],
   "source": [
    "    s_url = \"https://imdb-api.com/en/API/MostPopularMovies/k_5wie7okz\"\n",
    "    s_data = requests.get(s_url)\n",
    "    s_data = s_data.json()\n",
    "    itm = s_data['items']\n",
    "    name = []\n",
    "    post = []\n",
    "    nb = append(itm[1:3]\n",
    "    print(nb)"
   ]
  },
  {
   "cell_type": "code",
   "execution_count": 6,
   "metadata": {},
   "outputs": [
    {
     "ename": "NameError",
     "evalue": "name 'name' is not defined",
     "output_type": "error",
     "traceback": [
      "\u001b[1;31m---------------------------------------------------------------------------\u001b[0m",
      "\u001b[1;31mNameError\u001b[0m                                 Traceback (most recent call last)",
      "\u001b[1;32m<ipython-input-6-8afa4fbf817e>\u001b[0m in \u001b[0;36m<module>\u001b[1;34m\u001b[0m\n\u001b[1;32m----> 1\u001b[1;33m \u001b[0mname\u001b[0m\u001b[1;33m(\u001b[0m\u001b[1;33m)\u001b[0m\u001b[1;33m\u001b[0m\u001b[1;33m\u001b[0m\u001b[0m\n\u001b[0m",
      "\u001b[1;31mNameError\u001b[0m: name 'name' is not defined"
     ]
    }
   ],
   "source": [
    "name()"
   ]
  },
  {
   "cell_type": "code",
   "execution_count": 7,
   "metadata": {},
   "outputs": [
    {
     "name": "stdout",
     "output_type": "stream",
     "text": [
      "2021\n",
      "2021\n",
      "2021\n",
      "2021\n",
      "2021\n",
      "2021\n",
      "2021\n",
      "2021\n",
      "2021\n",
      "2021\n",
      "2021\n",
      "2021\n",
      "2021\n",
      "2021\n",
      "2021\n",
      "2021\n",
      "2021\n",
      "2021\n",
      "2021\n",
      "2021\n",
      "2021\n",
      "2021\n",
      "2021\n",
      "2021\n",
      "2021\n",
      "2021\n",
      "2021\n",
      "2021\n",
      "2021\n",
      "2021\n",
      "2021\n",
      "2021\n",
      "2021\n",
      "2021\n",
      "2021\n",
      "2021\n",
      "2021\n",
      "2021\n",
      "2021\n",
      "2021\n",
      "2021\n",
      "2021\n",
      "2021\n",
      "2021\n",
      "2021\n",
      "2021\n",
      "2021\n",
      "2021\n",
      "2021\n",
      "2021\n",
      "2021\n",
      "2021\n",
      "2021\n",
      "2021\n",
      "2021\n",
      "2021\n",
      "2021\n",
      "2021\n",
      "2021\n",
      "2021\n",
      "2021\n",
      "2021\n",
      "2021\n",
      "2021\n",
      "2021\n",
      "2021\n",
      "2021\n",
      "2021\n",
      "2021\n",
      "2021\n",
      "2021\n",
      "2021\n",
      "2021\n",
      "2021\n",
      "2021\n",
      "2021\n",
      "2021\n",
      "2021\n",
      "2021\n",
      "2021\n",
      "2021\n",
      "2021\n",
      "2021\n",
      "2021\n",
      "2021\n",
      "2021\n",
      "2021\n",
      "2021\n",
      "2021\n",
      "2021\n",
      "2021\n",
      "2021\n",
      "2021\n",
      "2021\n",
      "2021\n",
      "2021\n",
      "2021\n",
      "2021\n",
      "2021\n",
      "2021\n"
     ]
    }
   ],
   "source": [
    "#https://imdb-api.com/en/API/MostPopularMovies/k_5wie7okz\n",
    "def top():\n",
    "    s_url = \"https://imdb-api.com/en/API/MostPopularMovies/k_5wie7okz\"\n",
    "    s_data = requests.get(s_url)\n",
    "    s_data = s_data.json()\n",
    "    itm = s_data['items']\n",
    "    dimp = itm[6]\n",
    "    lim = dimp['year']\n",
    "    for i in itm:\n",
    "         print(lim)\n",
    "    return \n",
    "\n",
    "top()"
   ]
  },
  {
   "cell_type": "code",
   "execution_count": null,
   "metadata": {},
   "outputs": [],
   "source": [
    "lim[0]"
   ]
  },
  {
   "cell_type": "code",
   "execution_count": null,
   "metadata": {},
   "outputs": [],
   "source": []
  }
 ],
 "metadata": {
  "kernelspec": {
   "display_name": "Python 3",
   "language": "python",
   "name": "python3"
  },
  "language_info": {
   "codemirror_mode": {
    "name": "ipython",
    "version": 3
   },
   "file_extension": ".py",
   "mimetype": "text/x-python",
   "name": "python",
   "nbconvert_exporter": "python",
   "pygments_lexer": "ipython3",
   "version": "3.8.6"
  }
 },
 "nbformat": 4,
 "nbformat_minor": 4
}
